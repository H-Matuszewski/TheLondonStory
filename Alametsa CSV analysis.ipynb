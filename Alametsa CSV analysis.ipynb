{
 "cells": [
  {
   "cell_type": "code",
   "execution_count": null,
   "id": "8f2da869",
   "metadata": {},
   "outputs": [],
   "source": [
    "import pandas as pd\n",
    "import numpy as np\n",
    "##df=pd.read_csv(r\"dir of csv\") #while this file shows the output for Alviina Alamesta, it should also \n",
    "#work for Larroutourou, but I did see that the LabelStudio tags were slightly different between the two\n",
    "df.head()\n",
    "#Our columns\n",
    "Sentiment=df[\"sentiment\"]\n",
    "UserId=df[\"user_id\"]\n",
    "Language=df[\"language\"]\n",
    "#Our counters\n",
    "Degitimization_Foreign=0\n",
    "Appropriation_Decolonialize=0\n",
    "Whataboutism=0\n",
    "UlteriorMotives=0\n",
    "QuestioningSpeakerFollow=0\n",
    "Misogyny=0\n",
    "Delegitimisation_Expert=0\n",
    "Favour=0\n",
    "Unknown=0\n",
    "#Ended up forgetting to use these actually, but could be good to show the proportion if that's of any interest.\n",
    "EnglishCounter=0\n",
    "HindiCounter=0"
   ]
  },
  {
   "cell_type": "code",
   "execution_count": null,
   "id": "3f5e7be1",
   "metadata": {},
   "outputs": [],
   "source": [
    "SentimentValue=0 #Counter of sentiment\n",
    "SentimentList=[] #A new column for every nth tweet\n",
    "for i in Sentiment: #Separation into individual tweet types\n",
    "    if \"Delegitimization of foreign speakers\" in i:\n",
    "        Degitimization_Foreign+=1\n",
    "    elif \"Appropriation of “decolonialize” narrative\" in i:\n",
    "        Appropriation_Decolonialize+=1\n",
    "    elif \"Whataboutism\" in i:\n",
    "        Whataboutism+=1\n",
    "    elif \"Alleged “ulterior motives” of the speaker\" in i:\n",
    "        UlteriorMotives+=1\n",
    "    elif \"Questioning stature of the speaker (not widely followed)\" in i:\n",
    "        QuestioningSpeakerFollow+=1\n",
    "    elif \"Misogynistic/slut-shaming\" in i:\n",
    "        Misogyny+=1\n",
    "    elif \"Unrecoganisable\" in i:\n",
    "        Unknown+=1\n",
    "    elif \"Delegitimization as speaker may not be considered an  “expert”\" in i:\n",
    "        Delegitimisation_Expert+=1\n",
    "    elif \"Favour\" in i:\n",
    "        Favour+=1\n",
    "for i in Sentiment:\n",
    "    if \"Unrecoganisable\" in i:\n",
    "        SentimentList.append(0) #no sentiment value here to be added\n",
    "    elif \"Favour\" in i:\n",
    "        SentimentValue+=1 \n",
    "        SentimentList.append(1)\n",
    "    else:\n",
    "        SentimentValue-=1 #thus a total for sentiment value without double or triple counting (in theory at least)\n",
    "        SentimentList.append(-1)\n",
    "        \n",
    "    "
   ]
  },
  {
   "cell_type": "code",
   "execution_count": null,
   "id": "bb847359",
   "metadata": {},
   "outputs": [],
   "source": [
    "FinalList=[Degitimization_Foreign,Appropriation_Decolonialize,Whataboutism,\n",
    "          UlteriorMotives,QuestioningSpeakerFollow,Misogyny,Delegitimisation_Expert,Favour,Unknown] #combine previous counters into one list\n",
    "print(FinalList)"
   ]
  },
  {
   "cell_type": "code",
   "execution_count": 149,
   "id": "968339ed",
   "metadata": {},
   "outputs": [
    {
     "name": "stdout",
     "output_type": "stream",
     "text": [
      "-0.75 Average English reply sentiment out of 96 replies\n",
      "-1.0 Average Hindi reply sentiment out of 1 replies\n",
      "-0.0625 Average other-language reply sentiment out of 16 replies\n"
     ]
    }
   ],
   "source": [
    "#print(SentimentList)\n",
    "Language_And_Sentiment=[]\n",
    "EnglishSentiment=[]\n",
    "HindiSentiment=[]\n",
    "OtherSentiment=[]\n",
    "for i, j in zip(SentimentList,Language): #with our new sentiment list, we can compare across languages\n",
    "    Language_And_Sentiment.append([i,j])\n",
    "for i in Language_And_Sentiment:\n",
    "    if 'en' in i:\n",
    "        EnglishSentiment.append(i[0])\n",
    "    elif 'in' in i:\n",
    "        HindiSentiment.append(i[0])\n",
    "    else:\n",
    "        OtherSentiment.append(i[0])\n",
    "print(np.average(EnglishSentiment),\"Average English reply sentiment out of\",len(EnglishSentiment),\"replies\")\n",
    "print(np.average(HindiSentiment),\"Average Hindi reply sentiment out of\",len(HindiSentiment),\"replies\")\n",
    "print(np.average(OtherSentiment),\"Average other-language reply sentiment out of\",len(OtherSentiment),\"replies\")"
   ]
  },
  {
   "cell_type": "code",
   "execution_count": 150,
   "id": "be40469f",
   "metadata": {},
   "outputs": [
    {
     "data": {
      "text/plain": [
       "-0.7708333333333334"
      ]
     },
     "execution_count": 150,
     "metadata": {},
     "output_type": "execute_result"
    }
   ],
   "source": [
    "TotalResponses=len(Sentiment)-Unknown\n",
    "#print(SentimentValue)\n",
    "NetSentiment=SentimentValue/TotalResponses\n",
    "NetSentiment #net sentiment of known tweet types"
   ]
  },
  {
   "cell_type": "code",
   "execution_count": null,
   "id": "874c2c57",
   "metadata": {},
   "outputs": [],
   "source": [
    "import statsmodels.api as sm\n",
    "import seaborn as sns\n",
    "\n",
    "A,B=df['nlikes'],df['nretweets']\n",
    "X=[A,B]\n",
    "def reg_m(y, x):\n",
    "    ones = np.ones(len(x[0]))\n",
    "    X = sm.add_constant(np.column_stack((x[0], ones)))\n",
    "    for ele in x[1:]:\n",
    "        X = sm.add_constant(np.column_stack((ele, X)))\n",
    "    results = sm.OLS(y, X,cov_type='HAC').fit(covtype='HC1')\n",
    "    return results\n",
    "print(reg_m(SentimentList, X).summary())\n",
    "#running a regression on certain parameters"
   ]
  },
  {
   "cell_type": "code",
   "execution_count": 152,
   "id": "573d6324",
   "metadata": {},
   "outputs": [
    {
     "name": "stderr",
     "output_type": "stream",
     "text": [
      "C:\\Users\\585hu\\miniconda3\\lib\\site-packages\\seaborn\\_decorators.py:36: FutureWarning: Pass the following variables as keyword args: x, y. From version 0.12, the only valid positional argument will be `data`, and passing other arguments without an explicit keyword will result in an error or misinterpretation.\n",
      "  warnings.warn(\n"
     ]
    },
    {
     "data": {
      "text/plain": [
       "<AxesSubplot:>"
      ]
     },
     "execution_count": 152,
     "metadata": {},
     "output_type": "execute_result"
    },
    {
     "data": {
      "image/png": "[encoded data removed]",
      "text/plain": [
       "<Figure size 432x288 with 1 Axes>"
      ]
     },
     "metadata": {
      "needs_background": "light"
     },
     "output_type": "display_data"
    }
   ],
   "source": [
    "sns.regplot(SentimentList,list(A))"
   ]
  },
  {
   "cell_type": "code",
   "execution_count": 153,
   "id": "aa9a6e72",
   "metadata": {},
   "outputs": [
    {
     "name": "stdout",
     "output_type": "stream",
     "text": [
      "Requirement already satisfied: botometer in c:\\users\\585hu\\miniconda3\\lib\\site-packages (1.6.1)\n",
      "Requirement already satisfied: requests in c:\\users\\585hu\\miniconda3\\lib\\site-packages (2.27.1)\n",
      "Requirement already satisfied: tweepy in c:\\users\\585hu\\miniconda3\\lib\\site-packages (3.10.0)\n",
      "Requirement already satisfied: charset-normalizer~=2.0.0 in c:\\users\\585hu\\miniconda3\\lib\\site-packages (from requests) (2.0.4)\n",
      "Requirement already satisfied: urllib3<1.27,>=1.21.1 in c:\\users\\585hu\\miniconda3\\lib\\site-packages (from requests) (1.26.8)\n",
      "Requirement already satisfied: idna<4,>=2.5 in c:\\users\\585hu\\miniconda3\\lib\\site-packages (from requests) (3.3)\n",
      "Requirement already satisfied: certifi>=2017.4.17 in c:\\users\\585hu\\miniconda3\\lib\\site-packages (from requests) (2021.10.8)\n",
      "Requirement already satisfied: requests-oauthlib>=0.7.0 in c:\\users\\585hu\\miniconda3\\lib\\site-packages (from tweepy) (1.3.1)\n",
      "Requirement already satisfied: six>=1.10.0 in c:\\users\\585hu\\miniconda3\\lib\\site-packages (from tweepy) (1.16.0)\n",
      "Requirement already satisfied: oauthlib>=3.0.0 in c:\\users\\585hu\\miniconda3\\lib\\site-packages (from requests-oauthlib>=0.7.0->tweepy) (3.2.1)\n",
      "Requirement already satisfied: PySocks!=1.5.7,>=1.5.6 in c:\\users\\585hu\\miniconda3\\lib\\site-packages (from requests) (1.7.1)\n"
     ]
    },
    {
     "name": "stderr",
     "output_type": "stream",
     "text": [
      "\n",
      "[notice] A new release of pip available: 22.2.2 -> 22.3\n",
      "[notice] To update, run: python.exe -m pip install --upgrade pip\n"
     ]
    }
   ],
   "source": [
    "!pip install botometer requests tweepy"
   ]
  },
  {
   "cell_type": "code",
   "execution_count": 65,
   "id": "719185d4",
   "metadata": {},
   "outputs": [],
   "source": [
    "import botometer"
   ]
  },
  {
   "cell_type": "code",
   "execution_count": null,
   "id": "8fd2d030",
   "metadata": {},
   "outputs": [],
   "source": [
    "#rapidapi_key = \"aAgwGJHmmXjaoM1wzvS4ktrzy\"\n",
    "\n",
    "#twitter_app_auth = {\n",
    "    #'consumer_key': 'aAgwGJHmmXjaoM1wzvS4ktrzy',\n",
    "    #'consumer_secret': 'PRsuzR3iWBfOamJxBLJFDQY6ainBpwJjBw9P12oNsapDP5Tg66',\n",
    "    #'access_token': '722427174-e6r2U1VcfVOyDN8Wgtx07wvcnKwbBIp6YJ9XYNdQ',\n",
    "    #'access_token_secret': 'uNntX8LGtIudFuEn8wfwAvrkcCsiQQss1qeND0YARGlk9',\n",
    " # }"
   ]
  },
  {
   "cell_type": "code",
   "execution_count": 166,
   "id": "91de6472",
   "metadata": {},
   "outputs": [],
   "source": [
    "bom = botometer.Botometer(wait_on_ratelimit=True,\n",
    "                          rapidapi_key=rapidapi_key,\n",
    "                          **twitter_app_auth)"
   ]
  },
  {
   "cell_type": "code",
   "execution_count": null,
   "id": "c57b0d8e",
   "metadata": {},
   "outputs": [],
   "source": [
    "#for account_name, result in bom.check_accounts_in(UserId):\n",
    "  #print (\"=======================\", account_name, \"=======================\")\n",
    "  #print (result)"
   ]
  },
  {
   "cell_type": "code",
   "execution_count": 73,
   "id": "a5f98a1a",
   "metadata": {},
   "outputs": [],
   "source": [
    "import matplotlib.pyplot as plt"
   ]
  },
  {
   "cell_type": "code",
   "execution_count": 88,
   "id": "d69ec1fd",
   "metadata": {},
   "outputs": [
    {
     "data": {
      "image/png": "[encoded data removed]",
      "text/plain": [
       "<Figure size 1080x504 with 1 Axes>"
      ]
     },
     "metadata": {
      "needs_background": "light"
     },
     "output_type": "display_data"
    }
   ],
   "source": [
    "fig, ax = plt.subplots(figsize=(15, 7))\n",
    "LabelsGeneral = X=['Degitimization of Foreign Speakers','Appropriation of Decolonialization Narrative','Whataboutism',\n",
    "          'Ulterior Motives','Questioning Stature','Misogyny','Delegitimisation of Expertise','Favour','Unknown']\n",
    "ax.bar(LabelsGeneral,FinalList)\n",
    "ax.set_xlabel('Classification of Tweet')\n",
    "ax.set_ylabel('Total replies')\n",
    "ax.set_title('Types of rhetoric employed, general')\n",
    "fig.autofmt_xdate()\n",
    "plt.grid(animated=True,alpha=0.9)\n",
    "ax.set_axisbelow(True)\n",
    "plt.show()\n",
    "fig.savefig('GENERAL RHETORIC.jpg', bbox_inches='tight', dpi=600)\n",
    "#feel free to play around with visuals"
   ]
  },
  {
   "cell_type": "code",
   "execution_count": null,
   "id": "3ecca792",
   "metadata": {},
   "outputs": [],
   "source": [
    "#ideas from here:\n",
    "#scrape botometer scores, add as new columns\n",
    "#get general average,\n",
    "#average over a certain language, perhaps nlikes, etc (perhaps botometer score correlates with how many replies it got or something)\n",
    "#perhaps possible to find a botometer score given what type of rhetoric was employed?\n",
    "#other fun data stuff I suppose"
   ]
  }
 ],
 "metadata": {
  "kernelspec": {
   "display_name": "Python 3 (ipykernel)",
   "language": "python",
   "name": "python3"
  },
  "language_info": {
   "codemirror_mode": {
    "name": "ipython",
    "version": 3
   },
   "file_extension": ".py",
   "mimetype": "text/x-python",
   "name": "python",
   "nbconvert_exporter": "python",
   "pygments_lexer": "ipython3",
   "version": "3.9.12"
  }
 },
 "nbformat": 4,
 "nbformat_minor": 5
}
